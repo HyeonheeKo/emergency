{
 "cells": [
  {
   "cell_type": "code",
   "execution_count": 189,
   "id": "1ea4c62e",
   "metadata": {},
   "outputs": [],
   "source": [
    "import pandas as pd\n",
    "import numpy as np\n",
    "import tensorflow as tf\n",
    "\n",
    "from sklearn.preprocessing import MinMaxScaler\n",
    "from sklearn.metrics import mean_absolute_error, mean_squared_error, mean_squared_log_error, r2_score\n",
    "from keras.models import Sequential \n",
    "from keras.layers import Dense, GRU, Dropout \n",
    "from keras.optimizers import SGD \n",
    "\n",
    "import matplotlib.pyplot as plt\n",
    "import seaborn as sns\n",
    "%matplotlib inline\n",
    "\n",
    "import random\n",
    "import os\n",
    "import warnings\n",
    "warnings.filterwarnings('ignore')"
   ]
  },
  {
   "cell_type": "code",
   "execution_count": 112,
   "id": "b24c3a63",
   "metadata": {},
   "outputs": [],
   "source": [
    "def set_seed(SEED = 42):\n",
    "    os.environ['PYTHONHASHSEED'] = str(SEED)\n",
    "    os.environ['TF_DETERMINISTIC_OPS'] = '1'\n",
    "    tf.random.set_seed(SEED)\n",
    "    np.random.seed(SEED)\n",
    "    random.seed(SEED)"
   ]
  },
  {
   "cell_type": "markdown",
   "id": "8e53e313",
   "metadata": {},
   "source": [
    "### Sample data :: 철원 병원"
   ]
  },
  {
   "cell_type": "code",
   "execution_count": 113,
   "id": "84ae3766",
   "metadata": {},
   "outputs": [
    {
     "data": {
      "text/html": [
       "<div>\n",
       "<style scoped>\n",
       "    .dataframe tbody tr th:only-of-type {\n",
       "        vertical-align: middle;\n",
       "    }\n",
       "\n",
       "    .dataframe tbody tr th {\n",
       "        vertical-align: top;\n",
       "    }\n",
       "\n",
       "    .dataframe thead th {\n",
       "        text-align: right;\n",
       "    }\n",
       "</style>\n",
       "<table border=\"1\" class=\"dataframe\">\n",
       "  <thead>\n",
       "    <tr style=\"text-align: right;\">\n",
       "      <th></th>\n",
       "      <th>available_bed_num</th>\n",
       "    </tr>\n",
       "    <tr>\n",
       "      <th>record_time</th>\n",
       "      <th></th>\n",
       "    </tr>\n",
       "  </thead>\n",
       "  <tbody>\n",
       "    <tr>\n",
       "      <th>2023-06-23 09:40:01</th>\n",
       "      <td>5</td>\n",
       "    </tr>\n",
       "    <tr>\n",
       "      <th>2023-06-23 09:50:02</th>\n",
       "      <td>5</td>\n",
       "    </tr>\n",
       "    <tr>\n",
       "      <th>2023-06-23 10:00:01</th>\n",
       "      <td>5</td>\n",
       "    </tr>\n",
       "    <tr>\n",
       "      <th>2023-06-23 10:10:01</th>\n",
       "      <td>5</td>\n",
       "    </tr>\n",
       "    <tr>\n",
       "      <th>2023-06-23 10:20:01</th>\n",
       "      <td>3</td>\n",
       "    </tr>\n",
       "  </tbody>\n",
       "</table>\n",
       "</div>"
      ],
      "text/plain": [
       "                     available_bed_num\n",
       "record_time                           \n",
       "2023-06-23 09:40:01                  5\n",
       "2023-06-23 09:50:02                  5\n",
       "2023-06-23 10:00:01                  5\n",
       "2023-06-23 10:10:01                  5\n",
       "2023-06-23 10:20:01                  3"
      ]
     },
     "execution_count": 113,
     "metadata": {},
     "output_type": "execute_result"
    }
   ],
   "source": [
    "# data read\n",
    "empty_emer = pd.read_csv('../DAT/empty_emer.csv',encoding = 'CP949')\n",
    "empty_emer15 = empty_emer.loc[empty_emer.hospital_name=='철원병원'].copy()\n",
    "\n",
    "empty_emer15.drop('hospital_name',axis=1, inplace = True)\n",
    "empty_emer15 = empty_emer15.rename(columns={'available_bed_num':'available_bed_num',\n",
    "                                             'record_time':'record_time'})\n",
    "empty_emer15['record_time'] = pd.to_datetime(empty_emer15['record_time'], format = '%Y%m%d%H%M%S')\n",
    "empty_emer15 = empty_emer15.set_index('record_time')\n",
    "empty_emer15.head()"
   ]
  },
  {
   "cell_type": "code",
   "execution_count": 114,
   "id": "072b4c2b",
   "metadata": {},
   "outputs": [
    {
     "name": "stdout",
     "output_type": "stream",
     "text": [
      "train shape ::  (541, 1)\n",
      "test shape ::  (135, 1)\n"
     ]
    }
   ],
   "source": [
    "# data split\n",
    "split_rate = 0.8\n",
    "data = empty_emer15\n",
    "\n",
    "train_data = data[0:int(len(data)*split_rate)]\n",
    "test_data = data[int(len(data)*split_rate)+1:]\n",
    "\n",
    "train_data_len = len(train_data)\n",
    "test_data_len = len(test_data)\n",
    "\n",
    "print('train shape :: ', train_data.shape)\n",
    "print('test shape :: ', test_data.shape)"
   ]
  },
  {
   "cell_type": "code",
   "execution_count": 115,
   "id": "c8e2dffc",
   "metadata": {},
   "outputs": [
    {
     "data": {
      "text/plain": [
       "<AxesSubplot:xlabel='record_time'>"
      ]
     },
     "execution_count": 115,
     "metadata": {},
     "output_type": "execute_result"
    },
    {
     "data": {
      "image/png": "[encoded data removed]",
      "text/plain": [
       "<Figure size 432x288 with 1 Axes>"
      ]
     },
     "metadata": {
      "needs_background": "light"
     },
     "output_type": "display_data"
    }
   ],
   "source": [
    "train_data.plot()"
   ]
  },
  {
   "cell_type": "code",
   "execution_count": 116,
   "id": "4da109d7",
   "metadata": {},
   "outputs": [
    {
     "data": {
      "text/plain": [
       "541"
      ]
     },
     "execution_count": 116,
     "metadata": {},
     "output_type": "execute_result"
    }
   ],
   "source": [
    "train_data_len"
   ]
  },
  {
   "cell_type": "code",
   "execution_count": 117,
   "id": "aca0dab4",
   "metadata": {},
   "outputs": [],
   "source": [
    "# 정규화\n",
    "scaler = MinMaxScaler()\n",
    "train_data_scaled_value = scaler.fit_transform(train_data)\n",
    "test_data_scaled_value = scaler.transform(test_data)\n",
    "\n",
    "train_data_scaled = train_data.copy()\n",
    "train_data_scaled['available_bed_num'] = train_data_scaled_value\n",
    "\n",
    "test_data_scaled = test_data.copy()\n",
    "test_data_scaled['available_bed_num'] = test_data_scaled_value"
   ]
  },
  {
   "cell_type": "code",
   "execution_count": 118,
   "id": "f335db06",
   "metadata": {
    "scrolled": true
   },
   "outputs": [],
   "source": [
    "# training 데이터의 samples 와 time steps로 원본데이터 슬라이싱 함수\n",
    "def xysplit_data(train_data_scaled, test_data_scaled, \n",
    "                 train_data_len, test_data_len, time_steps, for_periods):\n",
    "    x_train = [] \n",
    "    y_train = []  \n",
    "\n",
    "    for i in range(time_steps, train_data_len):\n",
    "        x_train.append(train_data_scaled[i-time_steps:i].copy())\n",
    "        y_train.append(train_data_scaled[i:i+for_periods].values[0][0])\n",
    "    x_train, y_train = np.array(x_train), np.array(y_train)\n",
    "    \n",
    "    # 3차원으로 재구성하기\n",
    "    # x_train\n",
    "    x_train = np.reshape(x_train, (x_train.shape[0], x_train.shape[1],1))\n",
    "    \n",
    "    # X_test \n",
    "    inputs = pd.concat((train_data_scaled, test_data_scaled), axis=0).values\n",
    "    inputs = inputs[len(inputs)-len(test_data_scaled) - time_steps:]\n",
    "    inputs = inputs.reshape(-1,1)\n",
    "\n",
    "    x_test = []\n",
    "    for i in range(time_steps, test_data_len + time_steps):\n",
    "        x_test.append(inputs[i-time_steps:i,0])\n",
    "    x_test = np.array(x_test)\n",
    "    x_test = np.reshape(x_test, (x_test.shape[0], x_test.shape[1],1))\n",
    "  \n",
    "    return(x_train, y_train, x_test)"
   ]
  },
  {
   "cell_type": "code",
   "execution_count": 119,
   "id": "865122e1",
   "metadata": {},
   "outputs": [],
   "source": [
    "time_steps=6\n",
    "for_periods = 1\n",
    "x_train, y_train, x_test = xysplit_data(train_data_scaled, test_data_scaled,\n",
    "                                        train_data_len, test_data_len,\n",
    "                                        time_steps, for_periods)"
   ]
  },
  {
   "cell_type": "code",
   "execution_count": 120,
   "id": "64b87f5f",
   "metadata": {},
   "outputs": [
    {
     "data": {
      "text/html": [
       "<div>\n",
       "<style scoped>\n",
       "    .dataframe tbody tr th:only-of-type {\n",
       "        vertical-align: middle;\n",
       "    }\n",
       "\n",
       "    .dataframe tbody tr th {\n",
       "        vertical-align: top;\n",
       "    }\n",
       "\n",
       "    .dataframe thead th {\n",
       "        text-align: right;\n",
       "    }\n",
       "</style>\n",
       "<table border=\"1\" class=\"dataframe\">\n",
       "  <thead>\n",
       "    <tr style=\"text-align: right;\">\n",
       "      <th></th>\n",
       "      <th>available_bed_num</th>\n",
       "    </tr>\n",
       "    <tr>\n",
       "      <th>record_time</th>\n",
       "      <th></th>\n",
       "    </tr>\n",
       "  </thead>\n",
       "  <tbody>\n",
       "    <tr>\n",
       "      <th>2023-06-23 09:40:01</th>\n",
       "      <td>1.00000</td>\n",
       "    </tr>\n",
       "    <tr>\n",
       "      <th>2023-06-23 09:50:02</th>\n",
       "      <td>1.00000</td>\n",
       "    </tr>\n",
       "    <tr>\n",
       "      <th>2023-06-23 10:00:01</th>\n",
       "      <td>1.00000</td>\n",
       "    </tr>\n",
       "    <tr>\n",
       "      <th>2023-06-23 10:10:01</th>\n",
       "      <td>1.00000</td>\n",
       "    </tr>\n",
       "    <tr>\n",
       "      <th>2023-06-23 10:20:01</th>\n",
       "      <td>0.60000</td>\n",
       "    </tr>\n",
       "    <tr>\n",
       "      <th>2023-06-23 10:30:01</th>\n",
       "      <td>0.60000</td>\n",
       "    </tr>\n",
       "    <tr>\n",
       "      <th>2023-06-23 10:40:01</th>\n",
       "      <td>0.60000</td>\n",
       "    </tr>\n",
       "  </tbody>\n",
       "</table>\n",
       "</div>"
      ],
      "text/plain": [
       "                     available_bed_num\n",
       "record_time                           \n",
       "2023-06-23 09:40:01            1.00000\n",
       "2023-06-23 09:50:02            1.00000\n",
       "2023-06-23 10:00:01            1.00000\n",
       "2023-06-23 10:10:01            1.00000\n",
       "2023-06-23 10:20:01            0.60000\n",
       "2023-06-23 10:30:01            0.60000\n",
       "2023-06-23 10:40:01            0.60000"
      ]
     },
     "execution_count": 120,
     "metadata": {},
     "output_type": "execute_result"
    }
   ],
   "source": [
    "train_data_scaled.head(7)"
   ]
  },
  {
   "cell_type": "code",
   "execution_count": 121,
   "id": "6c466843",
   "metadata": {},
   "outputs": [
    {
     "data": {
      "text/html": [
       "<div>\n",
       "<style scoped>\n",
       "    .dataframe tbody tr th:only-of-type {\n",
       "        vertical-align: middle;\n",
       "    }\n",
       "\n",
       "    .dataframe tbody tr th {\n",
       "        vertical-align: top;\n",
       "    }\n",
       "\n",
       "    .dataframe thead th {\n",
       "        text-align: right;\n",
       "    }\n",
       "</style>\n",
       "<table border=\"1\" class=\"dataframe\">\n",
       "  <thead>\n",
       "    <tr style=\"text-align: right;\">\n",
       "      <th></th>\n",
       "      <th>available_bed_num</th>\n",
       "    </tr>\n",
       "    <tr>\n",
       "      <th>record_time</th>\n",
       "      <th></th>\n",
       "    </tr>\n",
       "  </thead>\n",
       "  <tbody>\n",
       "    <tr>\n",
       "      <th>2023-06-27 04:30:01</th>\n",
       "      <td>0.80000</td>\n",
       "    </tr>\n",
       "    <tr>\n",
       "      <th>2023-06-27 04:40:02</th>\n",
       "      <td>0.80000</td>\n",
       "    </tr>\n",
       "    <tr>\n",
       "      <th>2023-06-27 04:50:01</th>\n",
       "      <td>0.80000</td>\n",
       "    </tr>\n",
       "    <tr>\n",
       "      <th>2023-06-27 05:00:01</th>\n",
       "      <td>0.80000</td>\n",
       "    </tr>\n",
       "    <tr>\n",
       "      <th>2023-06-27 05:10:01</th>\n",
       "      <td>1.00000</td>\n",
       "    </tr>\n",
       "    <tr>\n",
       "      <th>2023-06-27 05:20:02</th>\n",
       "      <td>1.00000</td>\n",
       "    </tr>\n",
       "    <tr>\n",
       "      <th>2023-06-27 05:30:01</th>\n",
       "      <td>1.00000</td>\n",
       "    </tr>\n",
       "  </tbody>\n",
       "</table>\n",
       "</div>"
      ],
      "text/plain": [
       "                     available_bed_num\n",
       "record_time                           \n",
       "2023-06-27 04:30:01            0.80000\n",
       "2023-06-27 04:40:02            0.80000\n",
       "2023-06-27 04:50:01            0.80000\n",
       "2023-06-27 05:00:01            0.80000\n",
       "2023-06-27 05:10:01            1.00000\n",
       "2023-06-27 05:20:02            1.00000\n",
       "2023-06-27 05:30:01            1.00000"
      ]
     },
     "execution_count": 121,
     "metadata": {},
     "output_type": "execute_result"
    }
   ],
   "source": [
    "train_data_scaled.tail(7)"
   ]
  },
  {
   "cell_type": "code",
   "execution_count": 122,
   "id": "30375795",
   "metadata": {},
   "outputs": [
    {
     "data": {
      "text/html": [
       "<div>\n",
       "<style scoped>\n",
       "    .dataframe tbody tr th:only-of-type {\n",
       "        vertical-align: middle;\n",
       "    }\n",
       "\n",
       "    .dataframe tbody tr th {\n",
       "        vertical-align: top;\n",
       "    }\n",
       "\n",
       "    .dataframe thead th {\n",
       "        text-align: right;\n",
       "    }\n",
       "</style>\n",
       "<table border=\"1\" class=\"dataframe\">\n",
       "  <thead>\n",
       "    <tr style=\"text-align: right;\">\n",
       "      <th></th>\n",
       "      <th>available_bed_num</th>\n",
       "    </tr>\n",
       "    <tr>\n",
       "      <th>record_time</th>\n",
       "      <th></th>\n",
       "    </tr>\n",
       "  </thead>\n",
       "  <tbody>\n",
       "    <tr>\n",
       "      <th>2023-06-27 04:30:01</th>\n",
       "      <td>0.80000</td>\n",
       "    </tr>\n",
       "    <tr>\n",
       "      <th>2023-06-27 04:40:02</th>\n",
       "      <td>0.80000</td>\n",
       "    </tr>\n",
       "    <tr>\n",
       "      <th>2023-06-27 04:50:01</th>\n",
       "      <td>0.80000</td>\n",
       "    </tr>\n",
       "    <tr>\n",
       "      <th>2023-06-27 05:00:01</th>\n",
       "      <td>0.80000</td>\n",
       "    </tr>\n",
       "    <tr>\n",
       "      <th>2023-06-27 05:10:01</th>\n",
       "      <td>1.00000</td>\n",
       "    </tr>\n",
       "    <tr>\n",
       "      <th>2023-06-27 05:20:02</th>\n",
       "      <td>1.00000</td>\n",
       "    </tr>\n",
       "  </tbody>\n",
       "</table>\n",
       "</div>"
      ],
      "text/plain": [
       "                     available_bed_num\n",
       "record_time                           \n",
       "2023-06-27 04:30:01            0.80000\n",
       "2023-06-27 04:40:02            0.80000\n",
       "2023-06-27 04:50:01            0.80000\n",
       "2023-06-27 05:00:01            0.80000\n",
       "2023-06-27 05:10:01            1.00000\n",
       "2023-06-27 05:20:02            1.00000"
      ]
     },
     "execution_count": 122,
     "metadata": {},
     "output_type": "execute_result"
    }
   ],
   "source": [
    "i = train_data_len -1\n",
    "train_data_scaled[i-time_steps:i]"
   ]
  },
  {
   "cell_type": "code",
   "execution_count": 123,
   "id": "a686223b",
   "metadata": {},
   "outputs": [
    {
     "data": {
      "text/html": [
       "<div>\n",
       "<style scoped>\n",
       "    .dataframe tbody tr th:only-of-type {\n",
       "        vertical-align: middle;\n",
       "    }\n",
       "\n",
       "    .dataframe tbody tr th {\n",
       "        vertical-align: top;\n",
       "    }\n",
       "\n",
       "    .dataframe thead th {\n",
       "        text-align: right;\n",
       "    }\n",
       "</style>\n",
       "<table border=\"1\" class=\"dataframe\">\n",
       "  <thead>\n",
       "    <tr style=\"text-align: right;\">\n",
       "      <th></th>\n",
       "      <th>available_bed_num</th>\n",
       "    </tr>\n",
       "    <tr>\n",
       "      <th>record_time</th>\n",
       "      <th></th>\n",
       "    </tr>\n",
       "  </thead>\n",
       "  <tbody>\n",
       "    <tr>\n",
       "      <th>2023-06-27 05:30:01</th>\n",
       "      <td>1.00000</td>\n",
       "    </tr>\n",
       "  </tbody>\n",
       "</table>\n",
       "</div>"
      ],
      "text/plain": [
       "                     available_bed_num\n",
       "record_time                           \n",
       "2023-06-27 05:30:01            1.00000"
      ]
     },
     "execution_count": 123,
     "metadata": {},
     "output_type": "execute_result"
    }
   ],
   "source": [
    "train_data_scaled[i:i+for_periods]"
   ]
  },
  {
   "cell_type": "code",
   "execution_count": 124,
   "id": "8889f7f1",
   "metadata": {},
   "outputs": [
    {
     "data": {
      "text/plain": [
       "array([[1. ],\n",
       "       [1. ],\n",
       "       [1. ],\n",
       "       [1. ],\n",
       "       [0.6],\n",
       "       [0.6]])"
      ]
     },
     "execution_count": 124,
     "metadata": {},
     "output_type": "execute_result"
    }
   ],
   "source": [
    "x_train[0]"
   ]
  },
  {
   "cell_type": "code",
   "execution_count": 125,
   "id": "649b95fd",
   "metadata": {},
   "outputs": [
    {
     "data": {
      "text/plain": [
       "0.6000000000000001"
      ]
     },
     "execution_count": 125,
     "metadata": {},
     "output_type": "execute_result"
    }
   ],
   "source": [
    "y_train[0]"
   ]
  },
  {
   "cell_type": "code",
   "execution_count": 126,
   "id": "cfc3b5b2",
   "metadata": {},
   "outputs": [
    {
     "data": {
      "text/plain": [
       "array([[0.8],\n",
       "       [0.8],\n",
       "       [0.8],\n",
       "       [0.8],\n",
       "       [1. ],\n",
       "       [1. ]])"
      ]
     },
     "execution_count": 126,
     "metadata": {},
     "output_type": "execute_result"
    }
   ],
   "source": [
    "x_train[-1]"
   ]
  },
  {
   "cell_type": "code",
   "execution_count": 127,
   "id": "54992e2c",
   "metadata": {},
   "outputs": [
    {
     "data": {
      "text/plain": [
       "1.0"
      ]
     },
     "execution_count": 127,
     "metadata": {},
     "output_type": "execute_result"
    }
   ],
   "source": [
    "y_train[-1]"
   ]
  },
  {
   "cell_type": "code",
   "execution_count": 128,
   "id": "a640a4c3",
   "metadata": {},
   "outputs": [
    {
     "data": {
      "text/plain": [
       "(535, 6, 1)"
      ]
     },
     "execution_count": 128,
     "metadata": {},
     "output_type": "execute_result"
    }
   ],
   "source": [
    "x_train.shape   # 541 -1 -(6(time_steps)-1)"
   ]
  },
  {
   "cell_type": "code",
   "execution_count": 129,
   "id": "3a63f425",
   "metadata": {},
   "outputs": [
    {
     "data": {
      "text/plain": [
       "(541, 1)"
      ]
     },
     "execution_count": 129,
     "metadata": {},
     "output_type": "execute_result"
    }
   ],
   "source": [
    "train_data.shape"
   ]
  },
  {
   "cell_type": "code",
   "execution_count": 130,
   "id": "135d0e86",
   "metadata": {},
   "outputs": [
    {
     "name": "stdout",
     "output_type": "stream",
     "text": [
      "X_train 데이터프레임 형식으로 보기\n"
     ]
    },
    {
     "data": {
      "text/html": [
       "<div>\n",
       "<style scoped>\n",
       "    .dataframe tbody tr th:only-of-type {\n",
       "        vertical-align: middle;\n",
       "    }\n",
       "\n",
       "    .dataframe tbody tr th {\n",
       "        vertical-align: top;\n",
       "    }\n",
       "\n",
       "    .dataframe thead th {\n",
       "        text-align: right;\n",
       "    }\n",
       "</style>\n",
       "<table border=\"1\" class=\"dataframe\">\n",
       "  <thead>\n",
       "    <tr style=\"text-align: right;\">\n",
       "      <th></th>\n",
       "      <th>0</th>\n",
       "      <th>1</th>\n",
       "      <th>2</th>\n",
       "      <th>3</th>\n",
       "      <th>4</th>\n",
       "      <th>5</th>\n",
       "      <th>y_value</th>\n",
       "    </tr>\n",
       "  </thead>\n",
       "  <tbody>\n",
       "    <tr>\n",
       "      <th>0</th>\n",
       "      <td>1.00000</td>\n",
       "      <td>1.00000</td>\n",
       "      <td>1.00000</td>\n",
       "      <td>1.00000</td>\n",
       "      <td>0.60000</td>\n",
       "      <td>0.60000</td>\n",
       "      <td>0.60000</td>\n",
       "    </tr>\n",
       "    <tr>\n",
       "      <th>1</th>\n",
       "      <td>1.00000</td>\n",
       "      <td>1.00000</td>\n",
       "      <td>1.00000</td>\n",
       "      <td>0.60000</td>\n",
       "      <td>0.60000</td>\n",
       "      <td>0.60000</td>\n",
       "      <td>0.60000</td>\n",
       "    </tr>\n",
       "    <tr>\n",
       "      <th>2</th>\n",
       "      <td>1.00000</td>\n",
       "      <td>1.00000</td>\n",
       "      <td>0.60000</td>\n",
       "      <td>0.60000</td>\n",
       "      <td>0.60000</td>\n",
       "      <td>0.60000</td>\n",
       "      <td>0.60000</td>\n",
       "    </tr>\n",
       "    <tr>\n",
       "      <th>3</th>\n",
       "      <td>1.00000</td>\n",
       "      <td>0.60000</td>\n",
       "      <td>0.60000</td>\n",
       "      <td>0.60000</td>\n",
       "      <td>0.60000</td>\n",
       "      <td>0.60000</td>\n",
       "      <td>0.60000</td>\n",
       "    </tr>\n",
       "    <tr>\n",
       "      <th>4</th>\n",
       "      <td>0.60000</td>\n",
       "      <td>0.60000</td>\n",
       "      <td>0.60000</td>\n",
       "      <td>0.60000</td>\n",
       "      <td>0.60000</td>\n",
       "      <td>0.60000</td>\n",
       "      <td>0.20000</td>\n",
       "    </tr>\n",
       "  </tbody>\n",
       "</table>\n",
       "</div>"
      ],
      "text/plain": [
       "        0       1       2       3       4       5  y_value\n",
       "0 1.00000 1.00000 1.00000 1.00000 0.60000 0.60000  0.60000\n",
       "1 1.00000 1.00000 1.00000 0.60000 0.60000 0.60000  0.60000\n",
       "2 1.00000 1.00000 0.60000 0.60000 0.60000 0.60000  0.60000\n",
       "3 1.00000 0.60000 0.60000 0.60000 0.60000 0.60000  0.60000\n",
       "4 0.60000 0.60000 0.60000 0.60000 0.60000 0.60000  0.20000"
      ]
     },
     "execution_count": 130,
     "metadata": {},
     "output_type": "execute_result"
    }
   ],
   "source": [
    "# 3차원의 X_train을 데이터프레임 형식으로 바꿔서 눈으로 확인해보기\n",
    "print('X_train 데이터프레임 형식으로 보기')\n",
    "x_train_see = pd.DataFrame(np.reshape(x_train, (x_train.shape[0], x_train.shape[1])))\n",
    "y_train_see = pd.DataFrame(y_train, columns = ['y_value'])\n",
    "pd.concat([x_train_see, y_train_see], axis = 1).head()"
   ]
  },
  {
   "cell_type": "code",
   "execution_count": 131,
   "id": "91fbaa4f",
   "metadata": {},
   "outputs": [
    {
     "data": {
      "text/html": [
       "<div>\n",
       "<style scoped>\n",
       "    .dataframe tbody tr th:only-of-type {\n",
       "        vertical-align: middle;\n",
       "    }\n",
       "\n",
       "    .dataframe tbody tr th {\n",
       "        vertical-align: top;\n",
       "    }\n",
       "\n",
       "    .dataframe thead th {\n",
       "        text-align: right;\n",
       "    }\n",
       "</style>\n",
       "<table border=\"1\" class=\"dataframe\">\n",
       "  <thead>\n",
       "    <tr style=\"text-align: right;\">\n",
       "      <th></th>\n",
       "      <th>0</th>\n",
       "      <th>1</th>\n",
       "      <th>2</th>\n",
       "      <th>3</th>\n",
       "      <th>4</th>\n",
       "      <th>5</th>\n",
       "    </tr>\n",
       "  </thead>\n",
       "  <tbody>\n",
       "    <tr>\n",
       "      <th>125</th>\n",
       "      <td>0.80000</td>\n",
       "      <td>0.80000</td>\n",
       "      <td>0.80000</td>\n",
       "      <td>0.80000</td>\n",
       "      <td>0.80000</td>\n",
       "      <td>0.80000</td>\n",
       "    </tr>\n",
       "    <tr>\n",
       "      <th>126</th>\n",
       "      <td>0.80000</td>\n",
       "      <td>0.80000</td>\n",
       "      <td>0.80000</td>\n",
       "      <td>0.80000</td>\n",
       "      <td>0.80000</td>\n",
       "      <td>0.80000</td>\n",
       "    </tr>\n",
       "    <tr>\n",
       "      <th>127</th>\n",
       "      <td>0.80000</td>\n",
       "      <td>0.80000</td>\n",
       "      <td>0.80000</td>\n",
       "      <td>0.80000</td>\n",
       "      <td>0.80000</td>\n",
       "      <td>1.00000</td>\n",
       "    </tr>\n",
       "    <tr>\n",
       "      <th>128</th>\n",
       "      <td>0.80000</td>\n",
       "      <td>0.80000</td>\n",
       "      <td>0.80000</td>\n",
       "      <td>0.80000</td>\n",
       "      <td>1.00000</td>\n",
       "      <td>1.00000</td>\n",
       "    </tr>\n",
       "    <tr>\n",
       "      <th>129</th>\n",
       "      <td>0.80000</td>\n",
       "      <td>0.80000</td>\n",
       "      <td>0.80000</td>\n",
       "      <td>1.00000</td>\n",
       "      <td>1.00000</td>\n",
       "      <td>1.00000</td>\n",
       "    </tr>\n",
       "    <tr>\n",
       "      <th>130</th>\n",
       "      <td>0.80000</td>\n",
       "      <td>0.80000</td>\n",
       "      <td>1.00000</td>\n",
       "      <td>1.00000</td>\n",
       "      <td>1.00000</td>\n",
       "      <td>1.00000</td>\n",
       "    </tr>\n",
       "    <tr>\n",
       "      <th>131</th>\n",
       "      <td>0.80000</td>\n",
       "      <td>1.00000</td>\n",
       "      <td>1.00000</td>\n",
       "      <td>1.00000</td>\n",
       "      <td>1.00000</td>\n",
       "      <td>1.00000</td>\n",
       "    </tr>\n",
       "    <tr>\n",
       "      <th>132</th>\n",
       "      <td>1.00000</td>\n",
       "      <td>1.00000</td>\n",
       "      <td>1.00000</td>\n",
       "      <td>1.00000</td>\n",
       "      <td>1.00000</td>\n",
       "      <td>1.00000</td>\n",
       "    </tr>\n",
       "    <tr>\n",
       "      <th>133</th>\n",
       "      <td>1.00000</td>\n",
       "      <td>1.00000</td>\n",
       "      <td>1.00000</td>\n",
       "      <td>1.00000</td>\n",
       "      <td>1.00000</td>\n",
       "      <td>1.00000</td>\n",
       "    </tr>\n",
       "    <tr>\n",
       "      <th>134</th>\n",
       "      <td>1.00000</td>\n",
       "      <td>1.00000</td>\n",
       "      <td>1.00000</td>\n",
       "      <td>1.00000</td>\n",
       "      <td>1.00000</td>\n",
       "      <td>1.00000</td>\n",
       "    </tr>\n",
       "  </tbody>\n",
       "</table>\n",
       "</div>"
      ],
      "text/plain": [
       "          0       1       2       3       4       5\n",
       "125 0.80000 0.80000 0.80000 0.80000 0.80000 0.80000\n",
       "126 0.80000 0.80000 0.80000 0.80000 0.80000 0.80000\n",
       "127 0.80000 0.80000 0.80000 0.80000 0.80000 1.00000\n",
       "128 0.80000 0.80000 0.80000 0.80000 1.00000 1.00000\n",
       "129 0.80000 0.80000 0.80000 1.00000 1.00000 1.00000\n",
       "130 0.80000 0.80000 1.00000 1.00000 1.00000 1.00000\n",
       "131 0.80000 1.00000 1.00000 1.00000 1.00000 1.00000\n",
       "132 1.00000 1.00000 1.00000 1.00000 1.00000 1.00000\n",
       "133 1.00000 1.00000 1.00000 1.00000 1.00000 1.00000\n",
       "134 1.00000 1.00000 1.00000 1.00000 1.00000 1.00000"
      ]
     },
     "execution_count": 131,
     "metadata": {},
     "output_type": "execute_result"
    }
   ],
   "source": [
    "# 3차원의 X_test를 데이터프레임 형식으로 바꿔서 눈으로 확인해보기\n",
    "x_test_see = pd.DataFrame(np.reshape(x_test, (x_test.shape[0], x_test.shape[1])))\n",
    "pd.DataFrame(x_test_see).tail(10)"
   ]
  },
  {
   "cell_type": "code",
   "execution_count": 132,
   "id": "cbb5648a",
   "metadata": {},
   "outputs": [
    {
     "data": {
      "text/plain": [
       "(135, 6, 1)"
      ]
     },
     "execution_count": 132,
     "metadata": {},
     "output_type": "execute_result"
    }
   ],
   "source": [
    "x_test.shape"
   ]
  },
  {
   "cell_type": "code",
   "execution_count": 133,
   "id": "fa1a878a",
   "metadata": {},
   "outputs": [
    {
     "name": "stdout",
     "output_type": "stream",
     "text": [
      "There are 535 samples in the training data\n",
      "There are 135 samples in the test data\n"
     ]
    }
   ],
   "source": [
    "print(\"There are \" + str(x_train.shape[0]) + \" samples in the training data\")\n",
    "# There are 1505 samples in the training data\n",
    "\n",
    "print(\"There are \" + str(x_test.shape[0]) + \" samples in the test data\")\n",
    "# There are 249 samples in the test data"
   ]
  },
  {
   "cell_type": "markdown",
   "id": "391da51c",
   "metadata": {},
   "source": [
    "GRU 모델 만들기"
   ]
  },
  {
   "cell_type": "code",
   "execution_count": 134,
   "id": "29370c01",
   "metadata": {},
   "outputs": [],
   "source": [
    "def actual_pred_plot(preds):\n",
    "    \"\"\"\n",
    "    Plot the actual vs predition\n",
    "    \"\"\"\n",
    "    actual_pred = pd.DataFrame(columns = ['available_bed_num', 'prediction'])\n",
    "    actual_pred['available_bed_num'] = test_data[0:len(preds)]\n",
    "    actual_pred['prediction'] = preds[:,0]\n",
    "    \n",
    "    from keras.metrics import MeanSquaredError \n",
    "    m = MeanSquaredError()\n",
    "    m.update_state(np.array(actual_pred['available_bed_num']), np.array(actual_pred['prediction']))\n",
    "    \n",
    "    return (m.result().numpy(), actual_pred.plot(figsize = (20, 5)))"
   ]
  },
  {
   "cell_type": "code",
   "execution_count": 135,
   "id": "1576a94e",
   "metadata": {},
   "outputs": [],
   "source": [
    "def confirm_result(y_test, y_pred):\n",
    "    MAE = mean_absolute_error(y_test, y_pred)\n",
    "    RMSE = np.sqrt(mean_squared_error(y_test, y_pred))\n",
    "    MSLE = mean_squared_log_error(y_test, y_pred)\n",
    "    RMSLE = np.sqrt(mean_squared_log_error(y_test, y_pred))\n",
    "    R2 = r2_score(y_test, y_pred)\n",
    "    \n",
    "    pd.options.display.float_format = '{:.5f}'.format\n",
    "    Result = pd.DataFrame(data=[MAE,RMSE, RMSLE, R2],\n",
    "                         index = ['MAE','RMSE', 'RMSLE', 'R2'],\n",
    "                         columns=['Results'])\n",
    "    return Result"
   ]
  },
  {
   "cell_type": "code",
   "execution_count": 136,
   "id": "03893b0a",
   "metadata": {},
   "outputs": [],
   "source": [
    "def result_GRU(GRU_prediction, train_GRU_prediction, test_data):\n",
    "    # GRU 결과 플롯 그리기\n",
    "    GRU_prediction[1:10]\n",
    "    actual_pred_plot(GRU_prediction)\n",
    "\n",
    "    # 예측 성능 지표로 GRU 수행 결과 확인하기\n",
    "    y_pred_gru = pd.DataFrame(GRU_prediction[:, 0])\n",
    "    y_test_gru=test_data[0:len(GRU_prediction)]\n",
    "    y_test_gru.reset_index(drop=True, inplace=True)\n",
    "    test_result = confirm_result(y_test_gru, y_pred_gru)\n",
    "\n",
    "    train_pred_gru = pd.DataFrame(train_GRU_prediction[:, 0])\n",
    "    y_train_gru=train_data[time_steps:]\n",
    "    y_train_gru.reset_index(drop=True, inplace=True)\n",
    "    train_result = confirm_result(y_train_gru, train_pred_gru)\n",
    "\n",
    "    test_result.columns = ['test result']\n",
    "    train_result.columns = ['train result']\n",
    "    total_result = pd.concat([test_result, train_result], axis = 1)\n",
    "    print(total_result)"
   ]
  },
  {
   "cell_type": "code",
   "execution_count": 137,
   "id": "5f5e97ee",
   "metadata": {},
   "outputs": [
    {
     "data": {
      "text/plain": [
       "(535, 6, 1)"
      ]
     },
     "execution_count": 137,
     "metadata": {},
     "output_type": "execute_result"
    }
   ],
   "source": [
    "x_train.shape"
   ]
  },
  {
   "cell_type": "code",
   "execution_count": 167,
   "id": "2ced88bd",
   "metadata": {
    "scrolled": false
   },
   "outputs": [
    {
     "name": "stdout",
     "output_type": "stream",
     "text": [
      "5/5 [==============================] - 3s 6ms/step\n",
      "17/17 [==============================] - 0s 5ms/step\n"
     ]
    }
   ],
   "source": [
    "# GRU 아키텍처 (architecture )\n",
    "set_seed()\n",
    "my_GRU_model = Sequential()\n",
    "my_GRU_model.add(GRU(units = 64, \n",
    "                     return_sequences = True, \n",
    "                     input_shape = (x_train.shape[1],1), \n",
    "                     activation = 'tanh'))\n",
    "my_GRU_model.add(GRU(units = 32, \n",
    "                     activation = 'tanh'))\n",
    "\n",
    "my_GRU_model.add(Dense(units = 1))\n",
    "\n",
    "# 컴파일링 (Compiling)\n",
    "my_GRU_model.compile(optimizer = 'adam', loss = 'mean_squared_error')\n",
    "\n",
    "# 피팅하기 (Fitting)\n",
    "my_GRU_model.fit(x_train, y_train, epochs = 50, batch_size = 32, verbose = 0)\n",
    "\n",
    "GRU_prediction = my_GRU_model.predict(x_test)\n",
    "GRU_prediction = scaler.inverse_transform(GRU_prediction)\n",
    "\n",
    "x_train_GRU_prediction = my_GRU_model.predict(x_train)\n",
    "train_GRU_prediction = scaler.inverse_transform(x_train_GRU_prediction)"
   ]
  },
  {
   "cell_type": "code",
   "execution_count": 172,
   "id": "d97a54fb",
   "metadata": {},
   "outputs": [
    {
     "name": "stdout",
     "output_type": "stream",
     "text": [
      "       test result  train result\n",
      "MAE        0.31471       0.58387\n",
      "RMSE       0.53391       0.86303\n",
      "RMSLE      0.12815       0.27059\n",
      "R2         0.67623       0.66896\n"
     ]
    },
    {
     "data": {
      "image/png": "[encoded data removed]",
      "text/plain": [
       "<Figure size 432x288 with 1 Axes>"
      ]
     },
     "metadata": {
      "needs_background": "light"
     },
     "output_type": "display_data"
    }
   ],
   "source": [
    "result_GRU(GRU_prediction, train_GRU_prediction, test_data)"
   ]
  },
  {
   "cell_type": "markdown",
   "id": "e79c2fc7",
   "metadata": {},
   "source": [
    "# 코드 간략화\n",
    "다른 병원에서 사용"
   ]
  },
  {
   "cell_type": "code",
   "execution_count": 205,
   "id": "1ad92979",
   "metadata": {},
   "outputs": [],
   "source": [
    "train_data_len = len(train_data_scaled)\n",
    "test_data_len = len(test_data_scaled)\n",
    "time_steps=3\n",
    "for_periods = 1\n",
    "\n",
    "x_train, y_train, x_test = xysplit_data(train_data_scaled, test_data_scaled,\n",
    "                                        train_data_len, test_data_len,\n",
    "                                        time_steps, for_periods)"
   ]
  },
  {
   "cell_type": "code",
   "execution_count": 212,
   "id": "1bab11a4",
   "metadata": {},
   "outputs": [
    {
     "name": "stdout",
     "output_type": "stream",
     "text": [
      "5/5 [==============================] - 2s 5ms/step\n",
      "17/17 [==============================] - 0s 6ms/step\n"
     ]
    }
   ],
   "source": [
    "# GRU 아키텍처 (architecture )\n",
    "set_seed()\n",
    "my_GRU_model = Sequential()\n",
    "my_GRU_model.add(GRU(units = 64, \n",
    "                     return_sequences = True, \n",
    "                     input_shape = (x_train.shape[1],1), \n",
    "                     activation = 'tanh'))\n",
    "my_GRU_model.add(GRU(units = 32, \n",
    "                     activation = 'tanh'))\n",
    "my_GRU_model.add(Dropout(0.2))\n",
    "my_GRU_model.add(Dense(units = 1))\n",
    "\n",
    "# 컴파일링 (Compiling)\n",
    "my_GRU_model.compile(optimizer = 'adam', loss = 'mean_squared_error')\n",
    "\n",
    "# 피팅하기 (Fitting)\n",
    "my_GRU_model.fit(x_train, y_train, epochs = 50, batch_size = 32, verbose = 0)\n",
    "\n",
    "GRU_prediction = my_GRU_model.predict(x_test)\n",
    "GRU_prediction = scaler.inverse_transform(GRU_prediction)\n",
    "\n",
    "x_train_GRU_prediction = my_GRU_model.predict(x_train)\n",
    "train_GRU_prediction = scaler.inverse_transform(x_train_GRU_prediction)"
   ]
  },
  {
   "cell_type": "code",
   "execution_count": 213,
   "id": "0340845a",
   "metadata": {},
   "outputs": [
    {
     "name": "stdout",
     "output_type": "stream",
     "text": [
      "       test result  train result\n",
      "MAE        0.32728       0.58710\n",
      "RMSE       0.53505       0.85311\n",
      "RMSLE      0.12813       0.26858\n",
      "R2         0.67484       0.67653\n"
     ]
    },
    {
     "data": {
      "image/png": "[encoded data removed]",
      "text/plain": [
       "<Figure size 432x288 with 1 Axes>"
      ]
     },
     "metadata": {
      "needs_background": "light"
     },
     "output_type": "display_data"
    }
   ],
   "source": [
    "result_GRU(GRU_prediction, train_GRU_prediction, test_data)"
   ]
  },
  {
   "cell_type": "code",
   "execution_count": null,
   "id": "b4b0f7ef",
   "metadata": {},
   "outputs": [],
   "source": []
  },
  {
   "cell_type": "code",
   "execution_count": null,
   "id": "9f674967",
   "metadata": {},
   "outputs": [],
   "source": []
  },
  {
   "cell_type": "code",
   "execution_count": null,
   "id": "d69253cb",
   "metadata": {},
   "outputs": [],
   "source": []
  },
  {
   "cell_type": "code",
   "execution_count": null,
   "id": "1f411370",
   "metadata": {},
   "outputs": [],
   "source": []
  },
  {
   "cell_type": "code",
   "execution_count": null,
   "id": "8ab72f28",
   "metadata": {},
   "outputs": [],
   "source": []
  },
  {
   "cell_type": "code",
   "execution_count": null,
   "id": "74bd16a8",
   "metadata": {},
   "outputs": [],
   "source": []
  },
  {
   "cell_type": "code",
   "execution_count": null,
   "id": "63bd7fb9",
   "metadata": {},
   "outputs": [],
   "source": []
  },
  {
   "cell_type": "code",
   "execution_count": null,
   "id": "0f1bd4e9",
   "metadata": {},
   "outputs": [],
   "source": []
  },
  {
   "cell_type": "code",
   "execution_count": null,
   "id": "e16ecfcc",
   "metadata": {},
   "outputs": [],
   "source": []
  },
  {
   "cell_type": "code",
   "execution_count": null,
   "id": "91be26af",
   "metadata": {},
   "outputs": [],
   "source": []
  },
  {
   "cell_type": "code",
   "execution_count": null,
   "id": "962b753a",
   "metadata": {},
   "outputs": [],
   "source": []
  },
  {
   "cell_type": "code",
   "execution_count": null,
   "id": "0dc83002",
   "metadata": {},
   "outputs": [],
   "source": []
  },
  {
   "cell_type": "code",
   "execution_count": null,
   "id": "1e5362a5",
   "metadata": {},
   "outputs": [],
   "source": []
  },
  {
   "cell_type": "code",
   "execution_count": null,
   "id": "57bfc6b6",
   "metadata": {},
   "outputs": [],
   "source": []
  },
  {
   "cell_type": "code",
   "execution_count": null,
   "id": "38cbb5ee",
   "metadata": {},
   "outputs": [],
   "source": []
  },
  {
   "cell_type": "code",
   "execution_count": null,
   "id": "dfc7b1b9",
   "metadata": {},
   "outputs": [],
   "source": []
  },
  {
   "cell_type": "code",
   "execution_count": null,
   "id": "7a0daade",
   "metadata": {},
   "outputs": [],
   "source": []
  },
  {
   "cell_type": "code",
   "execution_count": null,
   "id": "843b9620",
   "metadata": {},
   "outputs": [],
   "source": []
  },
  {
   "cell_type": "code",
   "execution_count": null,
   "id": "5b93c9c1",
   "metadata": {},
   "outputs": [],
   "source": []
  },
  {
   "cell_type": "code",
   "execution_count": null,
   "id": "50101609",
   "metadata": {},
   "outputs": [],
   "source": []
  },
  {
   "cell_type": "code",
   "execution_count": null,
   "id": "8f2cca16",
   "metadata": {},
   "outputs": [],
   "source": []
  },
  {
   "cell_type": "code",
   "execution_count": null,
   "id": "b7265f01",
   "metadata": {},
   "outputs": [],
   "source": []
  },
  {
   "cell_type": "code",
   "execution_count": null,
   "id": "2d44e37a",
   "metadata": {},
   "outputs": [],
   "source": []
  },
  {
   "cell_type": "code",
   "execution_count": null,
   "id": "9a2d0878",
   "metadata": {},
   "outputs": [],
   "source": []
  },
  {
   "cell_type": "code",
   "execution_count": null,
   "id": "a1f76a71",
   "metadata": {},
   "outputs": [],
   "source": []
  },
  {
   "cell_type": "code",
   "execution_count": null,
   "id": "f6833dd2",
   "metadata": {},
   "outputs": [],
   "source": []
  },
  {
   "cell_type": "code",
   "execution_count": null,
   "id": "6ac2d26f",
   "metadata": {},
   "outputs": [],
   "source": []
  },
  {
   "cell_type": "code",
   "execution_count": null,
   "id": "1ae098a7",
   "metadata": {},
   "outputs": [],
   "source": []
  },
  {
   "cell_type": "code",
   "execution_count": null,
   "id": "02e5a3d7",
   "metadata": {},
   "outputs": [],
   "source": []
  },
  {
   "cell_type": "code",
   "execution_count": null,
   "id": "2dcb60e0",
   "metadata": {},
   "outputs": [],
   "source": []
  },
  {
   "cell_type": "code",
   "execution_count": null,
   "id": "6c3476fa",
   "metadata": {},
   "outputs": [],
   "source": []
  },
  {
   "cell_type": "code",
   "execution_count": null,
   "id": "c8205aca",
   "metadata": {},
   "outputs": [],
   "source": []
  },
  {
   "cell_type": "code",
   "execution_count": null,
   "id": "3887210b",
   "metadata": {},
   "outputs": [],
   "source": []
  },
  {
   "cell_type": "code",
   "execution_count": null,
   "id": "3970f0b0",
   "metadata": {},
   "outputs": [],
   "source": []
  },
  {
   "cell_type": "code",
   "execution_count": null,
   "id": "b19b49f5",
   "metadata": {},
   "outputs": [],
   "source": []
  },
  {
   "cell_type": "code",
   "execution_count": null,
   "id": "ff97e69a",
   "metadata": {},
   "outputs": [],
   "source": []
  },
  {
   "cell_type": "code",
   "execution_count": null,
   "id": "12c1e88b",
   "metadata": {},
   "outputs": [],
   "source": []
  },
  {
   "cell_type": "code",
   "execution_count": null,
   "id": "48e054e7",
   "metadata": {},
   "outputs": [],
   "source": []
  },
  {
   "cell_type": "code",
   "execution_count": null,
   "id": "cd4efcd8",
   "metadata": {},
   "outputs": [],
   "source": []
  }
 ],
 "metadata": {
  "kernelspec": {
   "display_name": "Python 3 (ipykernel)",
   "language": "python",
   "name": "python3"
  },
  "language_info": {
   "codemirror_mode": {
    "name": "ipython",
    "version": 3
   },
   "file_extension": ".py",
   "mimetype": "text/x-python",
   "name": "python",
   "nbconvert_exporter": "python",
   "pygments_lexer": "ipython3",
   "version": "3.9.12"
  }
 },
 "nbformat": 4,
 "nbformat_minor": 5
}
